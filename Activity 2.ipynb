{
 "cells": [
  {
   "cell_type": "markdown",
   "id": "2d9d2009-884b-4dfa-be5a-ca95976a713e",
   "metadata": {},
   "source": [
    "<h1>Activity 2 UK - Accident Data Analytics Projects</h1>\n",
    "<hr>\n",
    "<h3>Analyst: Jerwin Nico H. Quijano.</h3>"
   ]
  },
  {
   "cell_type": "code",
   "execution_count": 36,
   "id": "363e49a9-60c0-4caf-a7f6-63912ccc8a5f",
   "metadata": {},
   "outputs": [],
   "source": [
    "# import libraries\n",
    "import numpy as np\n",
    "import pandas as pd\n",
    "import matplotlib.pyplot as plt\n",
    "import warnings\n",
    "warnings.filterwarnings('ignore')"
   ]
  },
  {
   "cell_type": "code",
   "execution_count": 37,
   "id": "212f536c-ba29-4859-9c36-1100dad415c4",
   "metadata": {},
   "outputs": [
    {
     "data": {
      "text/html": [
       "<div>\n",
       "<style scoped>\n",
       "    .dataframe tbody tr th:only-of-type {\n",
       "        vertical-align: middle;\n",
       "    }\n",
       "\n",
       "    .dataframe tbody tr th {\n",
       "        vertical-align: top;\n",
       "    }\n",
       "\n",
       "    .dataframe thead th {\n",
       "        text-align: right;\n",
       "    }\n",
       "</style>\n",
       "<table border=\"1\" class=\"dataframe\">\n",
       "  <thead>\n",
       "    <tr style=\"text-align: right;\">\n",
       "      <th></th>\n",
       "      <th>Index</th>\n",
       "      <th>Accident_Severity</th>\n",
       "      <th>Accident Date</th>\n",
       "      <th>Latitude</th>\n",
       "      <th>Light_Conditions</th>\n",
       "      <th>District Area</th>\n",
       "      <th>Longitude</th>\n",
       "      <th>Number_of_Casualties</th>\n",
       "      <th>Number_of_Vehicles</th>\n",
       "      <th>Road_Surface_Conditions</th>\n",
       "      <th>Road_Type</th>\n",
       "      <th>Urban_or_Rural_Area</th>\n",
       "      <th>Weather_Conditions</th>\n",
       "      <th>Vehicle_Type</th>\n",
       "    </tr>\n",
       "  </thead>\n",
       "  <tbody>\n",
       "    <tr>\n",
       "      <th>0</th>\n",
       "      <td>200701BS64157</td>\n",
       "      <td>Serious</td>\n",
       "      <td>5/6/2019</td>\n",
       "      <td>51.506187</td>\n",
       "      <td>Darkness - lights lit</td>\n",
       "      <td>Kensington and Chelsea</td>\n",
       "      <td>-0.209082</td>\n",
       "      <td>1</td>\n",
       "      <td>2</td>\n",
       "      <td>Dry</td>\n",
       "      <td>Single carriageway</td>\n",
       "      <td>Urban</td>\n",
       "      <td>Fine no high winds</td>\n",
       "      <td>Car</td>\n",
       "    </tr>\n",
       "    <tr>\n",
       "      <th>1</th>\n",
       "      <td>200701BS65737</td>\n",
       "      <td>Serious</td>\n",
       "      <td>2/7/2019</td>\n",
       "      <td>51.495029</td>\n",
       "      <td>Daylight</td>\n",
       "      <td>Kensington and Chelsea</td>\n",
       "      <td>-0.173647</td>\n",
       "      <td>1</td>\n",
       "      <td>2</td>\n",
       "      <td>Wet or damp</td>\n",
       "      <td>Single carriageway</td>\n",
       "      <td>Urban</td>\n",
       "      <td>Raining no high winds</td>\n",
       "      <td>Car</td>\n",
       "    </tr>\n",
       "    <tr>\n",
       "      <th>2</th>\n",
       "      <td>200701BS66127</td>\n",
       "      <td>Serious</td>\n",
       "      <td>26-08-2019</td>\n",
       "      <td>51.517715</td>\n",
       "      <td>Darkness - lighting unknown</td>\n",
       "      <td>Kensington and Chelsea</td>\n",
       "      <td>-0.210215</td>\n",
       "      <td>1</td>\n",
       "      <td>3</td>\n",
       "      <td>Dry</td>\n",
       "      <td>NaN</td>\n",
       "      <td>Urban</td>\n",
       "      <td>NaN</td>\n",
       "      <td>Taxi/Private hire car</td>\n",
       "    </tr>\n",
       "    <tr>\n",
       "      <th>3</th>\n",
       "      <td>200701BS66128</td>\n",
       "      <td>Serious</td>\n",
       "      <td>16-08-2019</td>\n",
       "      <td>51.495478</td>\n",
       "      <td>Daylight</td>\n",
       "      <td>Kensington and Chelsea</td>\n",
       "      <td>-0.202731</td>\n",
       "      <td>1</td>\n",
       "      <td>4</td>\n",
       "      <td>Dry</td>\n",
       "      <td>Single carriageway</td>\n",
       "      <td>Urban</td>\n",
       "      <td>Fine no high winds</td>\n",
       "      <td>Bus or coach (17 or more pass seats)</td>\n",
       "    </tr>\n",
       "    <tr>\n",
       "      <th>4</th>\n",
       "      <td>200701BS66837</td>\n",
       "      <td>Slight</td>\n",
       "      <td>3/9/2019</td>\n",
       "      <td>51.488576</td>\n",
       "      <td>Darkness - lights lit</td>\n",
       "      <td>Kensington and Chelsea</td>\n",
       "      <td>-0.192487</td>\n",
       "      <td>1</td>\n",
       "      <td>2</td>\n",
       "      <td>Dry</td>\n",
       "      <td>NaN</td>\n",
       "      <td>Urban</td>\n",
       "      <td>NaN</td>\n",
       "      <td>Other vehicle</td>\n",
       "    </tr>\n",
       "    <tr>\n",
       "      <th>...</th>\n",
       "      <td>...</td>\n",
       "      <td>...</td>\n",
       "      <td>...</td>\n",
       "      <td>...</td>\n",
       "      <td>...</td>\n",
       "      <td>...</td>\n",
       "      <td>...</td>\n",
       "      <td>...</td>\n",
       "      <td>...</td>\n",
       "      <td>...</td>\n",
       "      <td>...</td>\n",
       "      <td>...</td>\n",
       "      <td>...</td>\n",
       "      <td>...</td>\n",
       "    </tr>\n",
       "    <tr>\n",
       "      <th>660674</th>\n",
       "      <td>201091NM01760</td>\n",
       "      <td>Slight</td>\n",
       "      <td>18-02-2022</td>\n",
       "      <td>57.374005</td>\n",
       "      <td>Daylight</td>\n",
       "      <td>Highland</td>\n",
       "      <td>-3.467828</td>\n",
       "      <td>2</td>\n",
       "      <td>1</td>\n",
       "      <td>Dry</td>\n",
       "      <td>Single carriageway</td>\n",
       "      <td>Rural</td>\n",
       "      <td>Fine no high winds</td>\n",
       "      <td>Car</td>\n",
       "    </tr>\n",
       "    <tr>\n",
       "      <th>660675</th>\n",
       "      <td>201091NM01881</td>\n",
       "      <td>Slight</td>\n",
       "      <td>21-02-2022</td>\n",
       "      <td>57.232273</td>\n",
       "      <td>Darkness - no lighting</td>\n",
       "      <td>Highland</td>\n",
       "      <td>-3.809281</td>\n",
       "      <td>1</td>\n",
       "      <td>1</td>\n",
       "      <td>Frost or ice</td>\n",
       "      <td>Single carriageway</td>\n",
       "      <td>Rural</td>\n",
       "      <td>Fine no high winds</td>\n",
       "      <td>Car</td>\n",
       "    </tr>\n",
       "    <tr>\n",
       "      <th>660676</th>\n",
       "      <td>201091NM01935</td>\n",
       "      <td>Slight</td>\n",
       "      <td>23-02-2022</td>\n",
       "      <td>57.585044</td>\n",
       "      <td>Daylight</td>\n",
       "      <td>Highland</td>\n",
       "      <td>-3.862727</td>\n",
       "      <td>1</td>\n",
       "      <td>3</td>\n",
       "      <td>Frost or ice</td>\n",
       "      <td>Single carriageway</td>\n",
       "      <td>Rural</td>\n",
       "      <td>Fine no high winds</td>\n",
       "      <td>Car</td>\n",
       "    </tr>\n",
       "    <tr>\n",
       "      <th>660677</th>\n",
       "      <td>201091NM01964</td>\n",
       "      <td>Serious</td>\n",
       "      <td>23-02-2022</td>\n",
       "      <td>57.214898</td>\n",
       "      <td>Darkness - no lighting</td>\n",
       "      <td>Highland</td>\n",
       "      <td>-3.823997</td>\n",
       "      <td>1</td>\n",
       "      <td>2</td>\n",
       "      <td>Wet or damp</td>\n",
       "      <td>Single carriageway</td>\n",
       "      <td>Rural</td>\n",
       "      <td>Fine no high winds</td>\n",
       "      <td>Motorcycle over 500cc</td>\n",
       "    </tr>\n",
       "    <tr>\n",
       "      <th>660678</th>\n",
       "      <td>201091NM02142</td>\n",
       "      <td>Serious</td>\n",
       "      <td>28-02-2022</td>\n",
       "      <td>57.575210</td>\n",
       "      <td>Daylight</td>\n",
       "      <td>Highland</td>\n",
       "      <td>-3.895673</td>\n",
       "      <td>1</td>\n",
       "      <td>1</td>\n",
       "      <td>Wet or damp</td>\n",
       "      <td>Dual carriageway</td>\n",
       "      <td>Rural</td>\n",
       "      <td>Snowing no high winds</td>\n",
       "      <td>Car</td>\n",
       "    </tr>\n",
       "  </tbody>\n",
       "</table>\n",
       "<p>660679 rows × 14 columns</p>\n",
       "</div>"
      ],
      "text/plain": [
       "                Index Accident_Severity Accident Date   Latitude  \\\n",
       "0       200701BS64157           Serious      5/6/2019  51.506187   \n",
       "1       200701BS65737           Serious      2/7/2019  51.495029   \n",
       "2       200701BS66127           Serious    26-08-2019  51.517715   \n",
       "3       200701BS66128           Serious    16-08-2019  51.495478   \n",
       "4       200701BS66837            Slight      3/9/2019  51.488576   \n",
       "...               ...               ...           ...        ...   \n",
       "660674  201091NM01760            Slight    18-02-2022  57.374005   \n",
       "660675  201091NM01881            Slight    21-02-2022  57.232273   \n",
       "660676  201091NM01935            Slight    23-02-2022  57.585044   \n",
       "660677  201091NM01964           Serious    23-02-2022  57.214898   \n",
       "660678  201091NM02142           Serious    28-02-2022  57.575210   \n",
       "\n",
       "                   Light_Conditions           District Area  Longitude  \\\n",
       "0             Darkness - lights lit  Kensington and Chelsea  -0.209082   \n",
       "1                          Daylight  Kensington and Chelsea  -0.173647   \n",
       "2       Darkness - lighting unknown  Kensington and Chelsea  -0.210215   \n",
       "3                          Daylight  Kensington and Chelsea  -0.202731   \n",
       "4             Darkness - lights lit  Kensington and Chelsea  -0.192487   \n",
       "...                             ...                     ...        ...   \n",
       "660674                     Daylight                Highland  -3.467828   \n",
       "660675       Darkness - no lighting                Highland  -3.809281   \n",
       "660676                     Daylight                Highland  -3.862727   \n",
       "660677       Darkness - no lighting                Highland  -3.823997   \n",
       "660678                     Daylight                Highland  -3.895673   \n",
       "\n",
       "        Number_of_Casualties  Number_of_Vehicles Road_Surface_Conditions  \\\n",
       "0                          1                   2                     Dry   \n",
       "1                          1                   2             Wet or damp   \n",
       "2                          1                   3                     Dry   \n",
       "3                          1                   4                     Dry   \n",
       "4                          1                   2                     Dry   \n",
       "...                      ...                 ...                     ...   \n",
       "660674                     2                   1                     Dry   \n",
       "660675                     1                   1            Frost or ice   \n",
       "660676                     1                   3            Frost or ice   \n",
       "660677                     1                   2             Wet or damp   \n",
       "660678                     1                   1             Wet or damp   \n",
       "\n",
       "                 Road_Type Urban_or_Rural_Area     Weather_Conditions  \\\n",
       "0       Single carriageway               Urban     Fine no high winds   \n",
       "1       Single carriageway               Urban  Raining no high winds   \n",
       "2                      NaN               Urban                    NaN   \n",
       "3       Single carriageway               Urban     Fine no high winds   \n",
       "4                      NaN               Urban                    NaN   \n",
       "...                    ...                 ...                    ...   \n",
       "660674  Single carriageway               Rural     Fine no high winds   \n",
       "660675  Single carriageway               Rural     Fine no high winds   \n",
       "660676  Single carriageway               Rural     Fine no high winds   \n",
       "660677  Single carriageway               Rural     Fine no high winds   \n",
       "660678    Dual carriageway               Rural  Snowing no high winds   \n",
       "\n",
       "                                Vehicle_Type  \n",
       "0                                        Car  \n",
       "1                                        Car  \n",
       "2                      Taxi/Private hire car  \n",
       "3       Bus or coach (17 or more pass seats)  \n",
       "4                              Other vehicle  \n",
       "...                                      ...  \n",
       "660674                                   Car  \n",
       "660675                                   Car  \n",
       "660676                                   Car  \n",
       "660677                 Motorcycle over 500cc  \n",
       "660678                                   Car  \n",
       "\n",
       "[660679 rows x 14 columns]"
      ]
     },
     "execution_count": 37,
     "metadata": {},
     "output_type": "execute_result"
    }
   ],
   "source": [
    "df = pd.read_csv('datasets//uk_road_accident.csv')\n",
    "df"
   ]
  },
  {
   "cell_type": "code",
   "execution_count": 38,
   "id": "11c79a3b-5ef6-4b5f-88a5-3e562c5fd0cb",
   "metadata": {},
   "outputs": [
    {
     "data": {
      "text/html": [
       "<div>\n",
       "<style scoped>\n",
       "    .dataframe tbody tr th:only-of-type {\n",
       "        vertical-align: middle;\n",
       "    }\n",
       "\n",
       "    .dataframe tbody tr th {\n",
       "        vertical-align: top;\n",
       "    }\n",
       "\n",
       "    .dataframe thead th {\n",
       "        text-align: right;\n",
       "    }\n",
       "</style>\n",
       "<table border=\"1\" class=\"dataframe\">\n",
       "  <thead>\n",
       "    <tr style=\"text-align: right;\">\n",
       "      <th></th>\n",
       "      <th>count</th>\n",
       "      <th>mean</th>\n",
       "      <th>std</th>\n",
       "      <th>min</th>\n",
       "      <th>25%</th>\n",
       "      <th>50%</th>\n",
       "      <th>75%</th>\n",
       "      <th>max</th>\n",
       "    </tr>\n",
       "  </thead>\n",
       "  <tbody>\n",
       "    <tr>\n",
       "      <th>Latitude</th>\n",
       "      <td>660654.0</td>\n",
       "      <td>52.553866</td>\n",
       "      <td>1.406922</td>\n",
       "      <td>49.914430</td>\n",
       "      <td>51.490690</td>\n",
       "      <td>52.315641</td>\n",
       "      <td>53.453452</td>\n",
       "      <td>60.757544</td>\n",
       "    </tr>\n",
       "    <tr>\n",
       "      <th>Longitude</th>\n",
       "      <td>660653.0</td>\n",
       "      <td>-1.431210</td>\n",
       "      <td>1.383330</td>\n",
       "      <td>-7.516225</td>\n",
       "      <td>-2.332291</td>\n",
       "      <td>-1.411667</td>\n",
       "      <td>-0.232869</td>\n",
       "      <td>1.762010</td>\n",
       "    </tr>\n",
       "    <tr>\n",
       "      <th>Number_of_Casualties</th>\n",
       "      <td>660679.0</td>\n",
       "      <td>1.357040</td>\n",
       "      <td>0.824847</td>\n",
       "      <td>1.000000</td>\n",
       "      <td>1.000000</td>\n",
       "      <td>1.000000</td>\n",
       "      <td>1.000000</td>\n",
       "      <td>68.000000</td>\n",
       "    </tr>\n",
       "    <tr>\n",
       "      <th>Number_of_Vehicles</th>\n",
       "      <td>660679.0</td>\n",
       "      <td>1.831255</td>\n",
       "      <td>0.715269</td>\n",
       "      <td>1.000000</td>\n",
       "      <td>1.000000</td>\n",
       "      <td>2.000000</td>\n",
       "      <td>2.000000</td>\n",
       "      <td>32.000000</td>\n",
       "    </tr>\n",
       "  </tbody>\n",
       "</table>\n",
       "</div>"
      ],
      "text/plain": [
       "                         count       mean       std        min        25%  \\\n",
       "Latitude              660654.0  52.553866  1.406922  49.914430  51.490690   \n",
       "Longitude             660653.0  -1.431210  1.383330  -7.516225  -2.332291   \n",
       "Number_of_Casualties  660679.0   1.357040  0.824847   1.000000   1.000000   \n",
       "Number_of_Vehicles    660679.0   1.831255  0.715269   1.000000   1.000000   \n",
       "\n",
       "                            50%        75%        max  \n",
       "Latitude              52.315641  53.453452  60.757544  \n",
       "Longitude             -1.411667  -0.232869   1.762010  \n",
       "Number_of_Casualties   1.000000   1.000000  68.000000  \n",
       "Number_of_Vehicles     2.000000   2.000000  32.000000  "
      ]
     },
     "execution_count": 38,
     "metadata": {},
     "output_type": "execute_result"
    }
   ],
   "source": [
    "df.describe().T"
   ]
  },
  {
   "cell_type": "code",
   "execution_count": 39,
   "id": "6cd60569-6cc8-40d3-8987-47dd91169b89",
   "metadata": {},
   "outputs": [
    {
     "data": {
      "text/plain": [
       "Index                       object\n",
       "Accident_Severity           object\n",
       "Accident Date               object\n",
       "Latitude                   float64\n",
       "Light_Conditions            object\n",
       "District Area               object\n",
       "Longitude                  float64\n",
       "Number_of_Casualties         int64\n",
       "Number_of_Vehicles           int64\n",
       "Road_Surface_Conditions     object\n",
       "Road_Type                   object\n",
       "Urban_or_Rural_Area         object\n",
       "Weather_Conditions          object\n",
       "Vehicle_Type                object\n",
       "dtype: object"
      ]
     },
     "execution_count": 39,
     "metadata": {},
     "output_type": "execute_result"
    }
   ],
   "source": [
    "df.dtypes"
   ]
  },
  {
   "cell_type": "markdown",
   "id": "6dddcddc-5a8d-4f15-ac1b-cd0a7858c078",
   "metadata": {},
   "source": [
    "<h1>Cleaning Data</h1>\n",
    "<hr>"
   ]
  },
  {
   "cell_type": "code",
   "execution_count": 40,
   "id": "9aaa66aa-a929-487e-8bf5-450daa940763",
   "metadata": {},
   "outputs": [
    {
     "data": {
      "text/plain": [
       "Index                          0\n",
       "Accident_Severity              0\n",
       "Accident Date                  0\n",
       "Latitude                      25\n",
       "Light_Conditions               0\n",
       "District Area                  0\n",
       "Longitude                     26\n",
       "Number_of_Casualties           0\n",
       "Number_of_Vehicles             0\n",
       "Road_Surface_Conditions      726\n",
       "Road_Type                   4520\n",
       "Urban_or_Rural_Area           15\n",
       "Weather_Conditions         14128\n",
       "Vehicle_Type                   0\n",
       "dtype: int64"
      ]
     },
     "execution_count": 40,
     "metadata": {},
     "output_type": "execute_result"
    }
   ],
   "source": [
    "df.isnull().sum()"
   ]
  },
  {
   "cell_type": "markdown",
   "id": "3aa7315f-49eb-49ea-8e46-05014fe32e27",
   "metadata": {},
   "source": [
    "<h1>Replacing null values with statistaclly accepted value.</h1>\n",
    "<hr>"
   ]
  },
  {
   "cell_type": "code",
   "execution_count": 41,
   "id": "7198ac90-a278-45c9-b226-f787b5fe9369",
   "metadata": {},
   "outputs": [],
   "source": [
    "null_val = df['Latitude'].mean()\n",
    "df['Latitude'] = df['Latitude'].fillna(null_val)"
   ]
  },
  {
   "cell_type": "code",
   "execution_count": 42,
   "id": "2bcfcd15-a60b-4d5d-ac29-2646098a0b53",
   "metadata": {},
   "outputs": [],
   "source": [
    "null_val = df['Longitude'].mean()\n",
    "df['Longitude'] = df['Longitude'].fillna(null_val)"
   ]
  },
  {
   "cell_type": "code",
   "execution_count": 43,
   "id": "7b041bae-26d4-47a4-b151-6983a159ea8a",
   "metadata": {},
   "outputs": [],
   "source": [
    "null_val = df['Road_Surface_Conditions'].mode()[0]\n",
    "df['Road_Surface_Conditions'] = df['Road_Surface_Conditions'].fillna(null_val)"
   ]
  },
  {
   "cell_type": "code",
   "execution_count": 44,
   "id": "1a165247-7520-4260-97a1-9b6cdce5a6d2",
   "metadata": {},
   "outputs": [],
   "source": [
    "null_val = df['Road_Type'].mode()[0]\n",
    "df['Road_Type'] = df['Road_Type'].fillna(null_val)"
   ]
  },
  {
   "cell_type": "code",
   "execution_count": 45,
   "id": "d95bb5d3-d0a4-4c8e-8f3d-0c6cadd21819",
   "metadata": {},
   "outputs": [],
   "source": [
    "null_val = df['Urban_or_Rural_Area'].mode()[0]\n",
    "df['Urban_or_Rural_Area'] = df['Urban_or_Rural_Area'].fillna(null_val)"
   ]
  },
  {
   "cell_type": "code",
   "execution_count": 46,
   "id": "8f7c752d-eec3-44d7-83b8-4c4c7310becc",
   "metadata": {},
   "outputs": [],
   "source": [
    "null_val = df['Weather_Conditions'].mode()[0]\n",
    "df['Weather_Conditions'] = df['Weather_Conditions'].fillna(null_val)"
   ]
  },
  {
   "cell_type": "code",
   "execution_count": 47,
   "id": "43c87610-26d0-48bc-a261-7e585cca9ec9",
   "metadata": {},
   "outputs": [
    {
     "data": {
      "text/plain": [
       "Index                      0\n",
       "Accident_Severity          0\n",
       "Accident Date              0\n",
       "Latitude                   0\n",
       "Light_Conditions           0\n",
       "District Area              0\n",
       "Longitude                  0\n",
       "Number_of_Casualties       0\n",
       "Number_of_Vehicles         0\n",
       "Road_Surface_Conditions    0\n",
       "Road_Type                  0\n",
       "Urban_or_Rural_Area        0\n",
       "Weather_Conditions         0\n",
       "Vehicle_Type               0\n",
       "dtype: int64"
      ]
     },
     "execution_count": 47,
     "metadata": {},
     "output_type": "execute_result"
    }
   ],
   "source": [
    "df.isnull().sum()"
   ]
  },
  {
   "cell_type": "markdown",
   "id": "9a363c9e-a7dd-4404-91ed-172068935555",
   "metadata": {},
   "source": [
    "<h1>Descriptive Analysis</h1>\n",
    "<hr></hr>\n",
    "<ol>\n",
    "   <li>What is the Average Casualties on Urban, Rural and Unallocated Area?</li> \n",
    "    <li>Does Night have more Number of Casualites than Morning?</li>\n",
    "    <li>How many serious Casualties Happens at Daylight?</li>\n",
    "    <li>Does the fatality decrease or increase if using a motorcyle with higher CC compare to low CC?</li>\n",
    "    <li>On average per how many accident happend depending on the Roadtype, Urban/Rural Area, and Accident Severitiy?</li>\n",
    "    <li>What type of road causes most accident by total?</li>\n",
    "    <li>Does weather conditions affect the number of casualties?</li>\n",
    "    <li>What road type and road surface conditions causes the more accident?</li>\n",
    "    <li>Which District Area report most accident?</li>\n",
    "    <li>Does involving more cars lead to higher casualties?</li>\n",
    "    <li>Which district has the highest average number of casualties per accident?</li>\n",
    "    <li>What’s the most common accident severity level?</li>\n",
    "    <li>Do severe accidents (high Accident_Severity) involve more vehicles on average?</li>\n",
    "    <li>What is the most prone to accident vehicel during rainy season?</li>\n",
    "    <li>What is the total casualties of rainy nights?</li>\n",
    "    <li>In what district causes more accident during rainy nights?</li>\n",
    "    <li>What is the most common Vehicel use in the most prone accident district?</li>\n",
    "    <li>What is the average casualties in the most prone accident district?</li>\n",
    "    <li>How many people in total got injured in rainy-night conditions?</li>\n",
    "    <li>Do fatal accidents in the City of London involve more casualties on average compared to serious and slight accidents?</li>\n",
    "</ol>"
   ]
  },
  {
   "cell_type": "code",
   "execution_count": 48,
   "id": "bfa57617-7d2b-41ec-aeb8-2b38f191eddd",
   "metadata": {},
   "outputs": [
    {
     "name": "stdout",
     "output_type": "stream",
     "text": [
      "Average Number of Casualties in Urban area: 1.29%\n",
      "Average Number of Casualties in Rural area: 1.48%\n",
      "Average Number of Casualties in Rural area: 1.18%\n"
     ]
    },
    {
     "data": {
      "image/png": "[encoded data removed]",
      "text/plain": [
       "<Figure size 640x480 with 1 Axes>"
      ]
     },
     "metadata": {},
     "output_type": "display_data"
    }
   ],
   "source": [
    "urban = df[df['Urban_or_Rural_Area'] == 'Urban']['Number_of_Casualties'].mean()\n",
    "print(f\"Average Number of Casualties in Urban area: {urban:.2f}%\")\n",
    "\n",
    "rural = df[df['Urban_or_Rural_Area'] == 'Rural']['Number_of_Casualties'].mean()\n",
    "print(f\"Average Number of Casualties in Rural area: {rural:.2f}%\")\n",
    "\n",
    "not_recorded = df[df['Urban_or_Rural_Area'] == 'Unallocated']['Number_of_Casualties'].mean()\n",
    "print(f\"Average Number of Casualties in Rural area: {not_recorded:.2f}%\")\n",
    "\n",
    "#chart\n",
    "\n",
    "plt.bar(['Urban', 'Rural', 'Unallocated'], [urban, rural, not_recorded], color=['red', 'green', 'grey'])\n",
    "plt.xlabel('Areas')\n",
    "plt.ylabel('Avg. Casualties')\n",
    "plt.show()"
   ]
  },
  {
   "cell_type": "markdown",
   "id": "7d4f13fe-6101-4f9f-bb81-931c7bed39f0",
   "metadata": {},
   "source": [
    "<h1>Insight</h1>\n",
    "<hr>\n",
    "<p>It turns out that the average percentage of casualties happens in Rural Areas while Urban areas has a much lesser average of casualties.</p>"
   ]
  },
  {
   "cell_type": "code",
   "execution_count": 49,
   "id": "dc63d6ee-de4f-456e-a7b7-f34bcb1d8ec7",
   "metadata": {},
   "outputs": [
    {
     "name": "stdout",
     "output_type": "stream",
     "text": [
      "<class 'pandas.core.frame.DataFrame'>\n",
      "RangeIndex: 660679 entries, 0 to 660678\n",
      "Data columns (total 14 columns):\n",
      " #   Column                   Non-Null Count   Dtype  \n",
      "---  ------                   --------------   -----  \n",
      " 0   Index                    660679 non-null  object \n",
      " 1   Accident_Severity        660679 non-null  object \n",
      " 2   Accident Date            660679 non-null  object \n",
      " 3   Latitude                 660679 non-null  float64\n",
      " 4   Light_Conditions         660679 non-null  object \n",
      " 5   District Area            660679 non-null  object \n",
      " 6   Longitude                660679 non-null  float64\n",
      " 7   Number_of_Casualties     660679 non-null  int64  \n",
      " 8   Number_of_Vehicles       660679 non-null  int64  \n",
      " 9   Road_Surface_Conditions  660679 non-null  object \n",
      " 10  Road_Type                660679 non-null  object \n",
      " 11  Urban_or_Rural_Area      660679 non-null  object \n",
      " 12  Weather_Conditions       660679 non-null  object \n",
      " 13  Vehicle_Type             660679 non-null  object \n",
      "dtypes: float64(2), int64(2), object(10)\n",
      "memory usage: 70.6+ MB\n"
     ]
    }
   ],
   "source": [
    "df.info()"
   ]
  },
  {
   "cell_type": "code",
   "execution_count": 50,
   "id": "1014cd86-2ac3-4fe9-aba1-85c890f0214a",
   "metadata": {},
   "outputs": [
    {
     "data": {
      "text/plain": [
       "np.int64(649889)"
      ]
     },
     "execution_count": 50,
     "metadata": {},
     "output_type": "execute_result"
    }
   ],
   "source": [
    "df[df['Light_Conditions'] == 'Daylight']['Number_of_Casualties'].sum()"
   ]
  },
  {
   "cell_type": "code",
   "execution_count": 51,
   "id": "7649e0c1-bf36-4c26-b7a9-6bcdadcd0cf1",
   "metadata": {},
   "outputs": [
    {
     "data": {
      "text/plain": [
       "np.int64(246679)"
      ]
     },
     "execution_count": 51,
     "metadata": {},
     "output_type": "execute_result"
    }
   ],
   "source": [
    "df[df['Light_Conditions'] != 'Daylight']['Number_of_Casualties'].sum()"
   ]
  },
  {
   "cell_type": "markdown",
   "id": "26d73edb-5641-4190-8332-b35653a5c161",
   "metadata": {},
   "source": [
    "<h1>Insights</h1>\n",
    "<hr>\n",
    "<p>So it turns out that there a more casualties happen at daylight than night.</p>"
   ]
  },
  {
   "cell_type": "code",
   "execution_count": 52,
   "id": "e1ba1139-aa5f-430f-b8c2-1d3acb0a0b19",
   "metadata": {},
   "outputs": [
    {
     "data": {
      "text/plain": [
       "np.int64(87023)"
      ]
     },
     "execution_count": 52,
     "metadata": {},
     "output_type": "execute_result"
    }
   ],
   "source": [
    "df[(df['Accident_Severity'] == 'Serious') & (df['Light_Conditions'] == 'Daylight')]['Number_of_Casualties'].sum()"
   ]
  },
  {
   "cell_type": "markdown",
   "id": "fd0f85a8-7355-4e54-a7af-311c78925308",
   "metadata": {},
   "source": [
    "<h1>Insights</h1>\n",
    "<hr>\n",
    "<p>The number of Serious Accident happened during daylight were 87023.</p>"
   ]
  },
  {
   "cell_type": "code",
   "execution_count": 53,
   "id": "f6a43fbc-47a0-4b1c-b58b-e0a55cedcf47",
   "metadata": {},
   "outputs": [
    {
     "data": {
      "text/plain": [
       "Vehicle_Type\n",
       "Agricultural vehicle                       2613\n",
       "Bus or coach (17 or more pass seats)      34915\n",
       "Car                                      676692\n",
       "Data missing or out of range                  9\n",
       "Goods 7.5 tonnes mgw and over             23397\n",
       "Goods over 3.5t. and under 7.5t            8308\n",
       "Minibus (8 - 16 passenger seats)           2659\n",
       "Motorcycle 125cc and under                20348\n",
       "Motorcycle 50cc and under                 10167\n",
       "Motorcycle over 125cc and up to 500cc     10286\n",
       "Motorcycle over 500cc                     34879\n",
       "Other vehicle                              7554\n",
       "Pedal cycle                                 270\n",
       "Ridden horse                                  5\n",
       "Taxi/Private hire car                     18195\n",
       "Van / Goods 3.5 tonnes mgw or under       46271\n",
       "Name: Number_of_Casualties, dtype: int64"
      ]
     },
     "execution_count": 53,
     "metadata": {},
     "output_type": "execute_result"
    }
   ],
   "source": [
    "df.groupby(['Vehicle_Type'])['Number_of_Casualties'].sum()"
   ]
  },
  {
   "cell_type": "markdown",
   "id": "12c2b327-a2a9-4535-bdbe-483d14715241",
   "metadata": {},
   "source": [
    "<h1>Insights</h1>\n",
    "<hr>\n",
    "<p>It turns out that riding a Higher CC motorcylce has risk of more accident.</p>"
   ]
  },
  {
   "cell_type": "code",
   "execution_count": 54,
   "id": "379f6c85-6219-41be-ab11-5be40f918880",
   "metadata": {},
   "outputs": [
    {
     "name": "stdout",
     "output_type": "stream",
     "text": [
      "Road_Type           Urban_or_Rural_Area  Accident_Severity\n",
      "Dual carriageway    Rural                Fatal                2.168193\n",
      "                                         Serious              1.814654\n",
      "                                         Slight               1.506083\n",
      "                    Unallocated          Slight               1.000000\n",
      "                    Urban                Fatal                1.618893\n",
      "                                         Serious              1.445393\n",
      "                                         Slight               1.388114\n",
      "One way street      Rural                Fatal                1.375000\n",
      "                                         Serious              1.305195\n",
      "                                         Slight               1.210475\n",
      "                    Urban                Fatal                1.264368\n",
      "                                         Serious              1.217189\n",
      "                                         Slight               1.185285\n",
      "Roundabout          Rural                Fatal                1.435484\n",
      "                                         Serious              1.323120\n",
      "                                         Slight               1.290098\n",
      "                    Unallocated          Slight               1.000000\n",
      "                    Urban                Fatal                1.312500\n",
      "                                         Serious              1.244504\n",
      "                                         Slight               1.266174\n",
      "Single carriageway  Rural                Fatal                2.071728\n",
      "                                         Serious              1.675819\n",
      "                                         Slight               1.412705\n",
      "                    Unallocated          Serious              1.000000\n",
      "                                         Slight               1.250000\n",
      "                    Urban                Fatal                1.556487\n",
      "                                         Serious              1.297244\n",
      "                                         Slight               1.270637\n",
      "Slip road           Rural                Fatal                3.694444\n",
      "                                         Serious              1.605000\n",
      "                                         Slight               1.430275\n",
      "                    Urban                Fatal                1.076923\n",
      "                                         Serious              1.393365\n",
      "                                         Slight               1.356718\n",
      "Name: Number_of_Casualties, dtype: float64\n"
     ]
    }
   ],
   "source": [
    "result = df.groupby(['Road_Type', 'Urban_or_Rural_Area', 'Accident_Severity'])['Number_of_Casualties'].mean()\n",
    "print(result)"
   ]
  },
  {
   "cell_type": "markdown",
   "id": "1d63d1f6-055c-41d0-9465-0427ebf44106",
   "metadata": {},
   "source": [
    "<h1>Insights</h1>\n",
    "<hr>\n",
    "<p>I noticed that slip road on the rural area tend to have more fatal accident compare to the rural areas suggesting that they might be a accident prone area in that area.</p>"
   ]
  },
  {
   "cell_type": "code",
   "execution_count": 55,
   "id": "2217370d-f439-4057-a75e-42200e734b87",
   "metadata": {},
   "outputs": [
    {
     "data": {
      "text/plain": [
       "<Figure size 500x600 with 0 Axes>"
      ]
     },
     "execution_count": 55,
     "metadata": {},
     "output_type": "execute_result"
    },
    {
     "data": {
      "image/png": "[encoded data removed]",
      "text/plain": [
       "<Figure size 640x480 with 1 Axes>"
      ]
     },
     "metadata": {},
     "output_type": "display_data"
    },
    {
     "data": {
      "text/plain": [
       "<Figure size 500x600 with 0 Axes>"
      ]
     },
     "metadata": {},
     "output_type": "display_data"
    }
   ],
   "source": [
    "datas = df.groupby(['Road_Type'])['Number_of_Casualties'].sum()\n",
    "plt.bar(datas.index, datas.values)\n",
    "plt.xticks(rotation=-45, ha='center')\n",
    "plt.figure(figsize=(5, 6))"
   ]
  },
  {
   "cell_type": "markdown",
   "id": "6eda02f8-d31f-4603-9d33-7c7493f67265",
   "metadata": {},
   "source": [
    "<h1>Insights</h1>\n",
    "<hr>\n",
    "<p>The road type that has more recorded accident by total were Single carriageway.</p>"
   ]
  },
  {
   "cell_type": "code",
   "execution_count": 56,
   "id": "09ab14e7-08bf-4cdb-a2c7-04ebcbbe4f11",
   "metadata": {},
   "outputs": [
    {
     "name": "stdout",
     "output_type": "stream",
     "text": [
      "Weather_Conditions\n",
      "Fine + high winds        1.386018\n",
      "Fine no high winds       1.347397\n",
      "Fog or mist              1.452948\n",
      "Other                    1.354869\n",
      "Raining + high winds     1.416641\n",
      "Raining no high winds    1.408214\n",
      "Snowing + high winds     1.418079\n",
      "Snowing no high winds    1.341776\n",
      "Name: Number_of_Casualties, dtype: float64\n"
     ]
    },
    {
     "data": {
      "text/plain": [
       "([0, 1, 2, 3, 4, 5, 6, 7],\n",
       " [Text(0, 0, 'Fine + high winds'),\n",
       "  Text(1, 0, 'Fine no high winds'),\n",
       "  Text(2, 0, 'Fog or mist'),\n",
       "  Text(3, 0, 'Other'),\n",
       "  Text(4, 0, 'Raining + high winds'),\n",
       "  Text(5, 0, 'Raining no high winds'),\n",
       "  Text(6, 0, 'Snowing + high winds'),\n",
       "  Text(7, 0, 'Snowing no high winds')])"
      ]
     },
     "execution_count": 56,
     "metadata": {},
     "output_type": "execute_result"
    },
    {
     "data": {
      "image/png": "[encoded data removed]",
      "text/plain": [
       "<Figure size 640x480 with 1 Axes>"
      ]
     },
     "metadata": {},
     "output_type": "display_data"
    }
   ],
   "source": [
    "data = df.groupby('Weather_Conditions')['Number_of_Casualties'].mean()\n",
    "print(data)\n",
    "plt.bar(data.index, data.values)\n",
    "plt.xticks(rotation=-45)\n"
   ]
  },
  {
   "cell_type": "markdown",
   "id": "b9ef84bc-dffd-4ea2-a881-5b1d7ed6ccc0",
   "metadata": {},
   "source": [
    "<h1>Insights</h1>\n",
    "<hr>\n",
    "<p>Fog causes more accident with 1.45%, i think drivers cannot see in this weather conditions thus causes accident.</p>"
   ]
  },
  {
   "cell_type": "code",
   "execution_count": 57,
   "id": "0ee8abac-b07e-4b92-a42b-4903a3799918",
   "metadata": {},
   "outputs": [
    {
     "data": {
      "text/html": [
       "<div>\n",
       "<style scoped>\n",
       "    .dataframe tbody tr th:only-of-type {\n",
       "        vertical-align: middle;\n",
       "    }\n",
       "\n",
       "    .dataframe tbody tr th {\n",
       "        vertical-align: top;\n",
       "    }\n",
       "\n",
       "    .dataframe thead th {\n",
       "        text-align: right;\n",
       "    }\n",
       "</style>\n",
       "<table border=\"1\" class=\"dataframe\">\n",
       "  <thead>\n",
       "    <tr style=\"text-align: right;\">\n",
       "      <th></th>\n",
       "      <th>Index</th>\n",
       "      <th>Accident_Severity</th>\n",
       "      <th>Accident Date</th>\n",
       "      <th>Latitude</th>\n",
       "      <th>Light_Conditions</th>\n",
       "      <th>District Area</th>\n",
       "      <th>Longitude</th>\n",
       "      <th>Number_of_Casualties</th>\n",
       "      <th>Number_of_Vehicles</th>\n",
       "      <th>Road_Surface_Conditions</th>\n",
       "      <th>Road_Type</th>\n",
       "      <th>Urban_or_Rural_Area</th>\n",
       "      <th>Weather_Conditions</th>\n",
       "      <th>Vehicle_Type</th>\n",
       "    </tr>\n",
       "  </thead>\n",
       "  <tbody>\n",
       "    <tr>\n",
       "      <th>117980</th>\n",
       "      <td>200743N002017</td>\n",
       "      <td>Fatal</td>\n",
       "      <td>3/1/2019</td>\n",
       "      <td>51.497547</td>\n",
       "      <td>Darkness - lights lit</td>\n",
       "      <td>South Bucks</td>\n",
       "      <td>-0.496697</td>\n",
       "      <td>68</td>\n",
       "      <td>1</td>\n",
       "      <td>Wet or damp</td>\n",
       "      <td>Slip road</td>\n",
       "      <td>Rural</td>\n",
       "      <td>Raining no high winds</td>\n",
       "      <td>Car</td>\n",
       "    </tr>\n",
       "  </tbody>\n",
       "</table>\n",
       "</div>"
      ],
      "text/plain": [
       "                Index Accident_Severity Accident Date   Latitude  \\\n",
       "117980  200743N002017             Fatal      3/1/2019  51.497547   \n",
       "\n",
       "             Light_Conditions District Area  Longitude  Number_of_Casualties  \\\n",
       "117980  Darkness - lights lit   South Bucks  -0.496697                    68   \n",
       "\n",
       "        Number_of_Vehicles Road_Surface_Conditions  Road_Type  \\\n",
       "117980                   1             Wet or damp  Slip road   \n",
       "\n",
       "       Urban_or_Rural_Area     Weather_Conditions Vehicle_Type  \n",
       "117980               Rural  Raining no high winds          Car  "
      ]
     },
     "execution_count": 57,
     "metadata": {},
     "output_type": "execute_result"
    }
   ],
   "source": [
    "df[df['Number_of_Casualties'] == df['Number_of_Casualties'].max()]"
   ]
  },
  {
   "cell_type": "markdown",
   "id": "26bf537c-a6ac-4b1a-907d-82d8e58f6546",
   "metadata": {},
   "source": [
    "<h1>Insights</h1>\n",
    "<hr>\n",
    "<p>So it truns out that the district that report the most fatal accident is South Bucks where it has 68 number of casualties and accident severity set to fatal.</p>"
   ]
  },
  {
   "cell_type": "code",
   "execution_count": 58,
   "id": "7ba2d90f-44fc-4b48-883a-b2a8a7b087ab",
   "metadata": {},
   "outputs": [
    {
     "data": {
      "text/plain": [
       "np.float64(0.2288888612692756)"
      ]
     },
     "execution_count": 58,
     "metadata": {},
     "output_type": "execute_result"
    }
   ],
   "source": [
    "data = df['Number_of_Casualties'].corr(df['Number_of_Vehicles'])\n",
    "data"
   ]
  },
  {
   "cell_type": "markdown",
   "id": "3f66d904-9175-422f-a93a-466da4084517",
   "metadata": {},
   "source": [
    "<h1>Insights</h1>\n",
    "<hr>\n",
    "<p>Involving more cars does not mean leading to Higher casualties</p>"
   ]
  },
  {
   "cell_type": "code",
   "execution_count": 59,
   "id": "fbcfded2-8412-422c-bf0d-89bad3d076f3",
   "metadata": {},
   "outputs": [
    {
     "name": "stdout",
     "output_type": "stream",
     "text": [
      "District Area\n",
      "Blaeu Gwent    1.693694\n",
      "Name: Number_of_Casualties, dtype: float64\n"
     ]
    }
   ],
   "source": [
    "data = df.groupby('District Area')['Number_of_Casualties'].mean()\n",
    "max_val = data.max()\n",
    "print(data[data == max_val])"
   ]
  },
  {
   "cell_type": "markdown",
   "id": "f58df26a-6c97-44ce-984e-300a4d6295cb",
   "metadata": {},
   "source": [
    "<h1>Insights</h1>\n",
    "<hr>\n",
    "<p>It turns out that District with the high casualties by average were Blaeu Gwent a rural area it surprise me that a rural area has highest average of casualties.</p>"
   ]
  },
  {
   "cell_type": "code",
   "execution_count": 60,
   "id": "d9b0cb1c-69b2-4c13-b2f2-fe8af4e26544",
   "metadata": {},
   "outputs": [
    {
     "name": "stdout",
     "output_type": "stream",
     "text": [
      "<class 'pandas.core.frame.DataFrame'>\n",
      "RangeIndex: 660679 entries, 0 to 660678\n",
      "Data columns (total 14 columns):\n",
      " #   Column                   Non-Null Count   Dtype  \n",
      "---  ------                   --------------   -----  \n",
      " 0   Index                    660679 non-null  object \n",
      " 1   Accident_Severity        660679 non-null  object \n",
      " 2   Accident Date            660679 non-null  object \n",
      " 3   Latitude                 660679 non-null  float64\n",
      " 4   Light_Conditions         660679 non-null  object \n",
      " 5   District Area            660679 non-null  object \n",
      " 6   Longitude                660679 non-null  float64\n",
      " 7   Number_of_Casualties     660679 non-null  int64  \n",
      " 8   Number_of_Vehicles       660679 non-null  int64  \n",
      " 9   Road_Surface_Conditions  660679 non-null  object \n",
      " 10  Road_Type                660679 non-null  object \n",
      " 11  Urban_or_Rural_Area      660679 non-null  object \n",
      " 12  Weather_Conditions       660679 non-null  object \n",
      " 13  Vehicle_Type             660679 non-null  object \n",
      "dtypes: float64(2), int64(2), object(10)\n",
      "memory usage: 70.6+ MB\n"
     ]
    }
   ],
   "source": [
    "df.info()"
   ]
  },
  {
   "cell_type": "code",
   "execution_count": 61,
   "id": "d2607898-ac5c-42c4-8be6-df3aedacbd9c",
   "metadata": {},
   "outputs": [
    {
     "name": "stdout",
     "output_type": "stream",
     "text": [
      "Accident_Severity\n",
      "Fatal        8661\n",
      "Serious     88217\n",
      "Slight     563801\n",
      "Name: Number_of_Casualties, dtype: int64\n"
     ]
    }
   ],
   "source": [
    "data = df.groupby('Accident_Severity')['Number_of_Casualties'].size()\n",
    "print(data)"
   ]
  },
  {
   "cell_type": "markdown",
   "id": "51eee421-c393-4693-85a9-16f15f64009d",
   "metadata": {},
   "source": [
    "<h1>Insights</h1>\n",
    "<hr>\n",
    "<p>The most common accident severity level were Slight followed by the serious and the least were Fatal.</p>"
   ]
  },
  {
   "cell_type": "code",
   "execution_count": 62,
   "id": "2e706a6d-fac9-45a8-8b28-a070aee5f3f7",
   "metadata": {},
   "outputs": [
    {
     "data": {
      "text/plain": [
       "<BarContainer object of 3 artists>"
      ]
     },
     "execution_count": 62,
     "metadata": {},
     "output_type": "execute_result"
    },
    {
     "data": {
      "image/png": "[encoded data removed]",
      "text/plain": [
       "<Figure size 640x480 with 1 Axes>"
      ]
     },
     "metadata": {},
     "output_type": "display_data"
    }
   ],
   "source": [
    "data = df.groupby('Accident_Severity')['Number_of_Vehicles'].mean()\n",
    "\n",
    "plt.bar(data.index, data.values)\n"
   ]
  },
  {
   "cell_type": "markdown",
   "id": "60af3e06-28e4-4247-9b21-48670107ca5d",
   "metadata": {},
   "source": [
    "<h1>Insights</h1>\n",
    "<hr>\n",
    "<p>No, High accident severity doesn't mean it has more vehicles.</p>"
   ]
  },
  {
   "cell_type": "code",
   "execution_count": 63,
   "id": "584bb952-9713-49b2-8d30-eb88ad78c33f",
   "metadata": {},
   "outputs": [
    {
     "name": "stdout",
     "output_type": "stream",
     "text": [
      "No high winds:\n",
      "Vehicle_Type\n",
      "Car    84521\n",
      "Name: Number_of_Casualties, dtype: int64\n",
      "==============================================\n",
      "With high winds:\n",
      "Vehicle_Type\n",
      "Car    84521\n",
      "Name: Number_of_Casualties, dtype: int64\n"
     ]
    }
   ],
   "source": [
    "rainy_no_winds = df[df['Weather_Conditions'] == 'Raining no high winds'].groupby('Vehicle_Type')['Number_of_Casualties'].sum()\n",
    "rainy_high_winds = df[df['Weather_Conditions'] == 'Raining + high winds'].groupby('Vehicle_Type')['Number_of_Casualties'].sum()\n",
    "print(\"No high winds:\")\n",
    "print(rainy_no_winds[rainy_no_winds == rainy_no_winds.max()])\n",
    "print('==============================================')\n",
    "print(\"With high winds:\")\n",
    "print(rainy_no_winds[rainy_no_winds == rainy_no_winds.max()])"
   ]
  },
  {
   "cell_type": "markdown",
   "id": "9ad54897-def7-4a5f-a95f-78902796f785",
   "metadata": {},
   "source": [
    "<h1>Insights</h1>\n",
    "<hr>\n",
    "<p>I was hoping to see motorcylce but it car is most prone to accident during the rainy seasons.</p>"
   ]
  },
  {
   "cell_type": "code",
   "execution_count": 64,
   "id": "111aacde-7116-4cf3-ad2e-51306748bf22",
   "metadata": {},
   "outputs": [
    {
     "data": {
      "text/plain": [
       "np.int64(49149)"
      ]
     },
     "execution_count": 64,
     "metadata": {},
     "output_type": "execute_result"
    }
   ],
   "source": [
    "night_rainy = df[((df['Weather_Conditions'] == 'Raining no high winds') | (df['Weather_Conditions'] == 'Raining + high winds')) & ((df['Light_Conditions'] == 'Darkness - lights lit') | (df['Light_Conditions'] == 'Darkness - lights unlit') | (df['Light_Conditions'] == 'Darkness - no lighting') | (df['Light_Conditions'] == 'Darkness - lighting unknown'))\n",
    "]['Number_of_Casualties'].sum()\n",
    "night_rainy"
   ]
  },
  {
   "cell_type": "markdown",
   "id": "627a9d6a-21bf-4d69-b9f1-dc0ce882a3e2",
   "metadata": {},
   "source": [
    "<h1>Insights</h1>\n",
    "<hr>\n",
    "<p>I turns out that the total casualties during rainy night are 49149.</p>"
   ]
  },
  {
   "cell_type": "code",
   "execution_count": 65,
   "id": "8d25cdec-1be0-45b9-8328-768e4187991c",
   "metadata": {},
   "outputs": [
    {
     "data": {
      "text/html": [
       "<div>\n",
       "<style scoped>\n",
       "    .dataframe tbody tr th:only-of-type {\n",
       "        vertical-align: middle;\n",
       "    }\n",
       "\n",
       "    .dataframe tbody tr th {\n",
       "        vertical-align: top;\n",
       "    }\n",
       "\n",
       "    .dataframe thead th {\n",
       "        text-align: right;\n",
       "    }\n",
       "</style>\n",
       "<table border=\"1\" class=\"dataframe\">\n",
       "  <thead>\n",
       "    <tr style=\"text-align: right;\">\n",
       "      <th></th>\n",
       "      <th>District Area</th>\n",
       "      <th>Number_of_Casualties</th>\n",
       "    </tr>\n",
       "  </thead>\n",
       "  <tbody>\n",
       "    <tr>\n",
       "      <th>312</th>\n",
       "      <td>South Bucks</td>\n",
       "      <td>68</td>\n",
       "    </tr>\n",
       "    <tr>\n",
       "      <th>73</th>\n",
       "      <td>Chester</td>\n",
       "      <td>21</td>\n",
       "    </tr>\n",
       "    <tr>\n",
       "      <th>127</th>\n",
       "      <td>Eastleigh</td>\n",
       "      <td>17</td>\n",
       "    </tr>\n",
       "    <tr>\n",
       "      <th>132</th>\n",
       "      <td>Enfield</td>\n",
       "      <td>16</td>\n",
       "    </tr>\n",
       "    <tr>\n",
       "      <th>32</th>\n",
       "      <td>Bolton</td>\n",
       "      <td>16</td>\n",
       "    </tr>\n",
       "    <tr>\n",
       "      <th>361</th>\n",
       "      <td>Tendring</td>\n",
       "      <td>15</td>\n",
       "    </tr>\n",
       "    <tr>\n",
       "      <th>360</th>\n",
       "      <td>Telford and Wrekin</td>\n",
       "      <td>15</td>\n",
       "    </tr>\n",
       "    <tr>\n",
       "      <th>120</th>\n",
       "      <td>East Lindsey</td>\n",
       "      <td>13</td>\n",
       "    </tr>\n",
       "    <tr>\n",
       "      <th>256</th>\n",
       "      <td>Oldham</td>\n",
       "      <td>13</td>\n",
       "    </tr>\n",
       "    <tr>\n",
       "      <th>314</th>\n",
       "      <td>South Derbyshire</td>\n",
       "      <td>10</td>\n",
       "    </tr>\n",
       "  </tbody>\n",
       "</table>\n",
       "</div>"
      ],
      "text/plain": [
       "          District Area  Number_of_Casualties\n",
       "312         South Bucks                    68\n",
       "73              Chester                    21\n",
       "127           Eastleigh                    17\n",
       "132             Enfield                    16\n",
       "32               Bolton                    16\n",
       "361            Tendring                    15\n",
       "360  Telford and Wrekin                    15\n",
       "120        East Lindsey                    13\n",
       "256              Oldham                    13\n",
       "314    South Derbyshire                    10"
      ]
     },
     "execution_count": 65,
     "metadata": {},
     "output_type": "execute_result"
    }
   ],
   "source": [
    "night_rainy = df[((df['Weather_Conditions'] == 'Raining no high winds') | (df['Weather_Conditions'] == 'Raining + high winds')) & ((df['Light_Conditions'] == 'Darkness - lights lit') | (df['Light_Conditions'] == 'Darkness - lights unlit') | (df['Light_Conditions'] == 'Darkness - no lighting') | (df['Light_Conditions'] == 'Darkness - lighting unknown'))\n",
    "]\n",
    "\n",
    "data = night_rainy.groupby('District Area')['Number_of_Casualties'].max().reset_index().sort_values(by='Number_of_Casualties', ascending=False)\n",
    "\n",
    "data.head(10)\n"
   ]
  },
  {
   "cell_type": "markdown",
   "id": "544647cd-b7f3-4712-9a25-df1f95905ca0",
   "metadata": {},
   "source": [
    "<h1>Insights</h1>\n",
    "<hr>\n",
    "<p>It turns out that Sout bukcs a rural district in englad has the most Number of casualties duringa rainy night accident.</p>"
   ]
  },
  {
   "cell_type": "code",
   "execution_count": 66,
   "id": "fcc4018a-8599-4e2c-9be0-4f01336e82ee",
   "metadata": {},
   "outputs": [
    {
     "data": {
      "text/plain": [
       "np.int64(36909)"
      ]
     },
     "execution_count": 66,
     "metadata": {},
     "output_type": "execute_result"
    }
   ],
   "source": [
    "most_common_car = night_rainy['Vehicle_Type'].mode()[0]\n",
    "night_rainy[night_rainy['Vehicle_Type'] == most_common_car]['Number_of_Casualties'].sum()"
   ]
  },
  {
   "cell_type": "markdown",
   "id": "e547ea06-2e0f-457f-926a-e5802c33295c",
   "metadata": {},
   "source": [
    "<h1>Insights</h1>\n",
    "<hr>\n",
    "<p>The most common vehicle to get into accident during rainy nights were car with the total 36909 of casualties.</p>"
   ]
  },
  {
   "cell_type": "code",
   "execution_count": 67,
   "id": "33b449be-2d58-4f02-a02a-14c84b4ea1d6",
   "metadata": {},
   "outputs": [
    {
     "data": {
      "text/plain": [
       "District Area\n",
       "City of London    1.126044\n",
       "Name: Number_of_Casualties, dtype: float64"
      ]
     },
     "execution_count": 67,
     "metadata": {},
     "output_type": "execute_result"
    }
   ],
   "source": [
    "avg_casualties = df.groupby('District Area')['Number_of_Casualties'].mean()\n",
    "lowest_casualties = avg_casualties.min()\n",
    "data = avg_casualties[avg_casualties == lowest_casualties]\n",
    "data"
   ]
  },
  {
   "cell_type": "markdown",
   "id": "8be42042-3771-4c14-a96f-d3c62c50dba9",
   "metadata": {},
   "source": [
    "<h1>Insights</h1>\n",
    "<hr>\n",
    "<p>The average casualties is 1.12% of the least prone to accident district were City of London, no suprise becasue people their tend to walk than to ride a vehicle.</p>"
   ]
  },
  {
   "cell_type": "code",
   "execution_count": 68,
   "id": "a186e561-bf69-4d99-8dff-0da9f3c0a9ce",
   "metadata": {},
   "outputs": [
    {
     "data": {
      "text/html": [
       "<div>\n",
       "<style scoped>\n",
       "    .dataframe tbody tr th:only-of-type {\n",
       "        vertical-align: middle;\n",
       "    }\n",
       "\n",
       "    .dataframe tbody tr th {\n",
       "        vertical-align: top;\n",
       "    }\n",
       "\n",
       "    .dataframe thead th {\n",
       "        text-align: right;\n",
       "    }\n",
       "</style>\n",
       "<table border=\"1\" class=\"dataframe\">\n",
       "  <thead>\n",
       "    <tr style=\"text-align: right;\">\n",
       "      <th></th>\n",
       "      <th>Index</th>\n",
       "      <th>Accident_Severity</th>\n",
       "      <th>Accident Date</th>\n",
       "      <th>Latitude</th>\n",
       "      <th>Light_Conditions</th>\n",
       "      <th>District Area</th>\n",
       "      <th>Longitude</th>\n",
       "      <th>Number_of_Casualties</th>\n",
       "      <th>Number_of_Vehicles</th>\n",
       "      <th>Road_Surface_Conditions</th>\n",
       "      <th>Road_Type</th>\n",
       "      <th>Urban_or_Rural_Area</th>\n",
       "      <th>Weather_Conditions</th>\n",
       "      <th>Vehicle_Type</th>\n",
       "    </tr>\n",
       "  </thead>\n",
       "  <tbody>\n",
       "    <tr>\n",
       "      <th>997</th>\n",
       "      <td>200701CP00318</td>\n",
       "      <td>Fatal</td>\n",
       "      <td>19-11-2019</td>\n",
       "      <td>51.516045</td>\n",
       "      <td>Darkness - lights lit</td>\n",
       "      <td>City of London</td>\n",
       "      <td>-0.081859</td>\n",
       "      <td>7</td>\n",
       "      <td>2</td>\n",
       "      <td>Wet or damp</td>\n",
       "      <td>Dual carriageway</td>\n",
       "      <td>Urban</td>\n",
       "      <td>Raining no high winds</td>\n",
       "      <td>Motorcycle over 500cc</td>\n",
       "    </tr>\n",
       "  </tbody>\n",
       "</table>\n",
       "</div>"
      ],
      "text/plain": [
       "             Index Accident_Severity Accident Date   Latitude  \\\n",
       "997  200701CP00318             Fatal    19-11-2019  51.516045   \n",
       "\n",
       "          Light_Conditions   District Area  Longitude  Number_of_Casualties  \\\n",
       "997  Darkness - lights lit  City of London  -0.081859                     7   \n",
       "\n",
       "     Number_of_Vehicles Road_Surface_Conditions         Road_Type  \\\n",
       "997                   2             Wet or damp  Dual carriageway   \n",
       "\n",
       "    Urban_or_Rural_Area     Weather_Conditions           Vehicle_Type  \n",
       "997               Urban  Raining no high winds  Motorcycle over 500cc  "
      ]
     },
     "execution_count": 68,
     "metadata": {},
     "output_type": "execute_result"
    }
   ],
   "source": [
    "data = night_rainy[(night_rainy['Accident_Severity'] == 'Fatal') & (night_rainy['Vehicle_Type'] == 'Motorcycle over 500cc')]\n",
    "max_casualties = data['Number_of_Casualties'].max()\n",
    "data[data['Number_of_Casualties'] == max_casualties]"
   ]
  },
  {
   "cell_type": "markdown",
   "id": "f373b734-b13a-429e-97fb-413047970039",
   "metadata": {},
   "source": [
    "<h1>Insights</h1>\n",
    "<hr>\n",
    "<p>In the City of London, the deadliest rainy-night accident involving a motorcycle over 500cc caused 7 casualties in a single crash. This accident happened under dark conditions with street lights on and on a wet road surface.</p>"
   ]
  },
  {
   "cell_type": "code",
   "execution_count": 69,
   "id": "f3855aa4-1010-4ea7-bb68-7a1fc4fd0b15",
   "metadata": {},
   "outputs": [
    {
     "data": {
      "text/plain": [
       "<BarContainer object of 3 artists>"
      ]
     },
     "execution_count": 69,
     "metadata": {},
     "output_type": "execute_result"
    },
    {
     "data": {
      "image/png": "[encoded data removed]",
      "text/plain": [
       "<Figure size 640x480 with 1 Axes>"
      ]
     },
     "metadata": {},
     "output_type": "display_data"
    }
   ],
   "source": [
    "fatal_accidents = df[(df['Accident_Severity'] == 'Fatal') & (df['District Area'] == 'City of London')]['Number_of_Casualties'].mean()\n",
    "serious_accidents = df[(df['Accident_Severity'] == 'Serious')  & (df['District Area'] == 'City of London')]['Number_of_Casualties'].mean()\n",
    "slight_accidents = df[(df['Accident_Severity'] == 'Slight')  & (df['District Area'] == 'City of London')]['Number_of_Casualties'].mean()\n",
    "\n",
    "plt.bar(['fatal', 'serious', 'slight'], [fatal_accidents,serious_accidents,slight_accidents])"
   ]
  },
  {
   "cell_type": "markdown",
   "id": "29c8d726-ccc3-4714-a57e-e3a56ccf6556",
   "metadata": {},
   "source": [
    "<h1>Insights</h1>\n",
    "<hr>\n",
    "<p> In the City of London, fatal accidents result in a higher average number of casualties per incident compared to serious or slight accidents. This indicates that when a crash escalates to fatal severity, it tends to involve more people being harmed, not just a single victim.\n",
    "\n",
    "Meanwhile, serious and slight accidents involve fewer casualties on average, suggesting they are more localized or less catastrophic in scale.\n",
    "\n",
    "This pattern highlights the disproportionate impact of fatal crashes—though they may occur less frequently, each one typically affects a larger group of road users, amplifying their social and safety impact.</p>"
   ]
  },
  {
   "cell_type": "code",
   "execution_count": 70,
   "id": "796b8c16-eaa0-4473-a39e-05e8667a5a62",
   "metadata": {},
   "outputs": [
    {
     "data": {
      "text/plain": [
       "array(['Serious', 'Slight', 'Fatal'], dtype=object)"
      ]
     },
     "execution_count": 70,
     "metadata": {},
     "output_type": "execute_result"
    }
   ],
   "source": [
    "df['Accident_Severity'].unique()"
   ]
  },
  {
   "cell_type": "code",
   "execution_count": null,
   "id": "d5bbbdb4-d02f-42d3-988e-936ec5b7e733",
   "metadata": {},
   "outputs": [],
   "source": []
  }
 ],
 "metadata": {
  "kernelspec": {
   "display_name": "Python 3 (ipykernel)",
   "language": "python",
   "name": "python3"
  },
  "language_info": {
   "codemirror_mode": {
    "name": "ipython",
    "version": 3
   },
   "file_extension": ".py",
   "mimetype": "text/x-python",
   "name": "python",
   "nbconvert_exporter": "python",
   "pygments_lexer": "ipython3",
   "version": "3.13.1"
  }
 },
 "nbformat": 4,
 "nbformat_minor": 5
}
